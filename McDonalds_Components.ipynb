{
 "cells": [
  {
   "cell_type": "markdown",
   "metadata": {},
   "source": [
    "<h1> McDonald's API Data Visualization <h1>\n",
    "<h3> By: Braveenth Rasanayagam <h3>"
   ]
  },
  {
   "cell_type": "markdown",
   "metadata": {},
   "source": [
    "The goal of this Jupyter notebook is to assist individuals facing dietary restrictions while ordering customizable food items at McDonalds Restuarants in Canada. The data for this project is obtained through an undocumented API that was traced while inspecting mcdonalds.com. McDonalds has various menu items and are customizable when ordering and this notebook can help individuals make better informed decisions.\n",
    "\n",
    "Disclaimer: I am not responsible for any decisions or actions arising from the use of this notebook. Data may be wrong or out-of-date.\n",
    "\n",
    "- Data Visualization \n",
    "- Programming Language: R \n",
    "- Libraries Used: JsonLite, ggplot2\n"
   ]
  },
  {
   "cell_type": "code",
   "execution_count": 57,
   "metadata": {
    "collapsed": true
   },
   "outputs": [],
   "source": [
    "library(jsonlite)\n",
    "library(ggplot2)"
   ]
  },
  {
   "cell_type": "code",
   "execution_count": 58,
   "metadata": {
    "collapsed": true
   },
   "outputs": [],
   "source": [
    "# Enter item number for product\n",
    "# Junior Chicken: 200186\n",
    "# Pattern for product numbers: 200###"
   ]
  },
  {
   "cell_type": "code",
   "execution_count": 59,
   "metadata": {
    "collapsed": false
   },
   "outputs": [],
   "source": [
    "itemDetail <- fromJSON(\"https://www.mcdonalds.com/wws/json/getItemDetails.htm?country=CA&language=en&showLiveData=true&item=200186\")"
   ]
  },
  {
   "cell_type": "code",
   "execution_count": 60,
   "metadata": {
    "collapsed": true
   },
   "outputs": [],
   "source": [
    "item <- itemDetail$item"
   ]
  },
  {
   "cell_type": "code",
   "execution_count": 61,
   "metadata": {
    "collapsed": true
   },
   "outputs": [],
   "source": [
    "nutrientFacts <- item$nutrient_facts"
   ]
  },
  {
   "cell_type": "code",
   "execution_count": 62,
   "metadata": {
    "collapsed": false
   },
   "outputs": [],
   "source": [
    "nutrients <- nutrientFacts$nutrient"
   ]
  },
  {
   "cell_type": "code",
   "execution_count": 63,
   "metadata": {
    "collapsed": false
   },
   "outputs": [],
   "source": [
    "components <- item$components"
   ]
  },
  {
   "cell_type": "code",
   "execution_count": 64,
   "metadata": {
    "collapsed": true
   },
   "outputs": [],
   "source": [
    "component <- components$component"
   ]
  },
  {
   "cell_type": "code",
   "execution_count": 65,
   "metadata": {
    "collapsed": true
   },
   "outputs": [],
   "source": [
    "itemName <- item$item_name"
   ]
  },
  {
   "cell_type": "code",
   "execution_count": 67,
   "metadata": {
    "collapsed": true
   },
   "outputs": [],
   "source": [
    "#getting the length of the components list\n",
    "numComponents <- length(component)"
   ]
  },
  {
   "cell_type": "code",
   "execution_count": 68,
   "metadata": {
    "collapsed": false
   },
   "outputs": [
    {
     "data": {
      "text/html": [
       "<ol class=list-inline>\n",
       "\t<li>'100 g'</li>\n",
       "\t<li>'100 g'</li>\n",
       "\t<li>'100 g'</li>\n",
       "\t<li>'100 g'</li>\n",
       "</ol>\n"
      ],
      "text/latex": [
       "\\begin{enumerate*}\n",
       "\\item '100 g'\n",
       "\\item '100 g'\n",
       "\\item '100 g'\n",
       "\\item '100 g'\n",
       "\\end{enumerate*}\n"
      ],
      "text/markdown": [
       "1. '100 g'\n",
       "2. '100 g'\n",
       "3. '100 g'\n",
       "4. '100 g'\n",
       "\n",
       "\n"
      ],
      "text/plain": [
       "[1] \"100 g\" \"100 g\" \"100 g\" \"100 g\""
      ]
     },
     "metadata": {},
     "output_type": "display_data"
    }
   ],
   "source": [
    "component$serving_size"
   ]
  },
  {
   "cell_type": "code",
   "execution_count": 69,
   "metadata": {
    "collapsed": false
   },
   "outputs": [
    {
     "data": {
      "text/html": [
       "<ol class=list-inline>\n",
       "\t<li>'Junior Chicken Patty'</li>\n",
       "\t<li>'Regular Bun'</li>\n",
       "\t<li>'Mayonnaise-Style Sauce'</li>\n",
       "\t<li>'Lettuce'</li>\n",
       "</ol>\n"
      ],
      "text/latex": [
       "\\begin{enumerate*}\n",
       "\\item 'Junior Chicken Patty'\n",
       "\\item 'Regular Bun'\n",
       "\\item 'Mayonnaise-Style Sauce'\n",
       "\\item 'Lettuce'\n",
       "\\end{enumerate*}\n"
      ],
      "text/markdown": [
       "1. 'Junior Chicken Patty'\n",
       "2. 'Regular Bun'\n",
       "3. 'Mayonnaise-Style Sauce'\n",
       "4. 'Lettuce'\n",
       "\n",
       "\n"
      ],
      "text/plain": [
       "[1] \"Junior Chicken Patty\"   \"Regular Bun\"            \"Mayonnaise-Style Sauce\"\n",
       "[4] \"Lettuce\"               "
      ]
     },
     "metadata": {},
     "output_type": "display_data"
    }
   ],
   "source": [
    "component$imported_product_name"
   ]
  },
  {
   "cell_type": "code",
   "execution_count": 70,
   "metadata": {
    "collapsed": false
   },
   "outputs": [
    {
     "data": {
      "text/html": [
       "<ol class=list-inline>\n",
       "\t<li>0.52</li>\n",
       "\t<li>0.5148</li>\n",
       "\t<li>0.1403</li>\n",
       "\t<li>0.14</li>\n",
       "</ol>\n"
      ],
      "text/latex": [
       "\\begin{enumerate*}\n",
       "\\item 0.52\n",
       "\\item 0.5148\n",
       "\\item 0.1403\n",
       "\\item 0.14\n",
       "\\end{enumerate*}\n"
      ],
      "text/markdown": [
       "1. 0.52\n",
       "2. 0.5148\n",
       "3. 0.1403\n",
       "4. 0.14\n",
       "\n",
       "\n"
      ],
      "text/plain": [
       "[1] 0.5200 0.5148 0.1403 0.1400"
      ]
     },
     "metadata": {},
     "output_type": "display_data"
    }
   ],
   "source": [
    "component$quantity"
   ]
  },
  {
   "cell_type": "code",
   "execution_count": 71,
   "metadata": {
    "collapsed": false
   },
   "outputs": [
    {
     "data": {
      "text/html": [
       "1.3151"
      ],
      "text/latex": [
       "1.3151"
      ],
      "text/markdown": [
       "1.3151"
      ],
      "text/plain": [
       "[1] 1.3151"
      ]
     },
     "metadata": {},
     "output_type": "display_data"
    }
   ],
   "source": [
    "sum(component$quantity)"
   ]
  },
  {
   "cell_type": "code",
   "execution_count": 72,
   "metadata": {
    "collapsed": true
   },
   "outputs": [],
   "source": [
    "componentNameQuantity <- data.frame(component$imported_product_name, component$quantity)"
   ]
  },
  {
   "cell_type": "code",
   "execution_count": 73,
   "metadata": {
    "collapsed": false
   },
   "outputs": [
    {
     "data": {
      "text/html": [
       "<ol class=list-inline>\n",
       "\t<li>'component.imported_product_name'</li>\n",
       "\t<li>'component.quantity'</li>\n",
       "</ol>\n"
      ],
      "text/latex": [
       "\\begin{enumerate*}\n",
       "\\item 'component.imported\\_product\\_name'\n",
       "\\item 'component.quantity'\n",
       "\\end{enumerate*}\n"
      ],
      "text/markdown": [
       "1. 'component.imported_product_name'\n",
       "2. 'component.quantity'\n",
       "\n",
       "\n"
      ],
      "text/plain": [
       "[1] \"component.imported_product_name\" \"component.quantity\"             "
      ]
     },
     "metadata": {},
     "output_type": "display_data"
    }
   ],
   "source": [
    "names(componentNameQuantity)"
   ]
  },
  {
   "cell_type": "code",
   "execution_count": 74,
   "metadata": {
    "collapsed": false
   },
   "outputs": [
    {
     "data": {
      "text/plain": [
       "       component.imported_product_name component.quantity\n",
       " Junior Chicken Patty  :1              Min.   :0.1400    \n",
       " Lettuce               :1              1st Qu.:0.1402    \n",
       " Mayonnaise-Style Sauce:1              Median :0.3276    \n",
       " Regular Bun           :1              Mean   :0.3288    \n",
       "                                       3rd Qu.:0.5161    \n",
       "                                       Max.   :0.5200    "
      ]
     },
     "metadata": {},
     "output_type": "display_data"
    }
   ],
   "source": [
    "summary(componentNameQuantity)"
   ]
  },
  {
   "cell_type": "code",
   "execution_count": 75,
   "metadata": {
    "collapsed": false
   },
   "outputs": [
    {
     "name": "stdout",
     "output_type": "stream",
     "text": [
      "  component.imported_product_name component.quantity\n",
      "1            Junior Chicken Patty             0.5200\n",
      "2                     Regular Bun             0.5148\n",
      "3          Mayonnaise-Style Sauce             0.1403\n",
      "4                         Lettuce             0.1400\n"
     ]
    }
   ],
   "source": [
    "print(componentNameQuantity)"
   ]
  },
  {
   "cell_type": "code",
   "execution_count": 76,
   "metadata": {
    "collapsed": false
   },
   "outputs": [],
   "source": [
    "# Remember that I am using R here, not Python!"
   ]
  },
  {
   "cell_type": "code",
   "execution_count": 77,
   "metadata": {
    "collapsed": false
   },
   "outputs": [],
   "source": [
    "bp <- ggplot(componentNameQuantity, aes(x=\"\", y=component.quantity, fill=component.imported_product_name)) +\n",
    "geom_bar(width = 1, stat = \"identity\")\n"
   ]
  },
  {
   "cell_type": "code",
   "execution_count": 78,
   "metadata": {
    "collapsed": true
   },
   "outputs": [],
   "source": [
    "pie <- bp "
   ]
  },
  {
   "cell_type": "code",
   "execution_count": 79,
   "metadata": {
    "collapsed": false,
    "scrolled": false
   },
   "outputs": [
    {
     "data": {},
     "metadata": {},
     "output_type": "display_data"
    },
    {
     "data": {
      "image/png": "[encoded data removed]",
      "text/plain": [
       "plot without title"
      ]
     },
     "metadata": {},
     "output_type": "display_data"
    }
   ],
   "source": [
    "bp"
   ]
  },
  {
   "cell_type": "code",
   "execution_count": 80,
   "metadata": {
    "collapsed": false
   },
   "outputs": [
    {
     "data": {
      "text/html": [
       "<table>\n",
       "<thead><tr><th scope=col>component.imported_product_name</th><th scope=col>component.quantity</th></tr></thead>\n",
       "<tbody>\n",
       "\t<tr><td>Junior Chicken Patty  </td><td>0.5200                </td></tr>\n",
       "\t<tr><td>Regular Bun           </td><td>0.5148                </td></tr>\n",
       "\t<tr><td>Mayonnaise-Style Sauce</td><td>0.1403                </td></tr>\n",
       "\t<tr><td>Lettuce               </td><td>0.1400                </td></tr>\n",
       "</tbody>\n",
       "</table>\n"
      ],
      "text/latex": [
       "\\begin{tabular}{r|ll}\n",
       " component.imported\\_product\\_name & component.quantity\\\\\n",
       "\\hline\n",
       "\t Junior Chicken Patty   & 0.5200                \\\\\n",
       "\t Regular Bun            & 0.5148                \\\\\n",
       "\t Mayonnaise-Style Sauce & 0.1403                \\\\\n",
       "\t Lettuce                & 0.1400                \\\\\n",
       "\\end{tabular}\n"
      ],
      "text/markdown": [
       "\n",
       "component.imported_product_name | component.quantity | \n",
       "|---|---|---|---|\n",
       "| Junior Chicken Patty   | 0.5200                 | \n",
       "| Regular Bun            | 0.5148                 | \n",
       "| Mayonnaise-Style Sauce | 0.1403                 | \n",
       "| Lettuce                | 0.1400                 | \n",
       "\n",
       "\n"
      ],
      "text/plain": [
       "  component.imported_product_name component.quantity\n",
       "1 Junior Chicken Patty            0.5200            \n",
       "2 Regular Bun                     0.5148            \n",
       "3 Mayonnaise-Style Sauce          0.1403            \n",
       "4 Lettuce                         0.1400            "
      ]
     },
     "metadata": {},
     "output_type": "display_data"
    }
   ],
   "source": [
    "head(componentNameQuantity)"
   ]
  },
  {
   "cell_type": "code",
   "execution_count": 81,
   "metadata": {
    "collapsed": false
   },
   "outputs": [
    {
     "data": {},
     "metadata": {},
     "output_type": "display_data"
    },
    {
     "data": {
      "image/png": "[encoded data removed]",
      "text/plain": [
       "plot without title"
      ]
     },
     "metadata": {},
     "output_type": "display_data"
    }
   ],
   "source": [
    "# Creating a pie chart\n",
    "pie <- bp + coord_polar(\"y\", start=0) + ggtitle(paste(itemName, \"Item Components\", sep=\" \"))\n",
    "pie"
   ]
  },
  {
   "cell_type": "code",
   "execution_count": 98,
   "metadata": {
    "collapsed": false
   },
   "outputs": [],
   "source": [
    "itemAllergens <- component$product_allergen"
   ]
  },
  {
   "cell_type": "code",
   "execution_count": 99,
   "metadata": {
    "collapsed": false
   },
   "outputs": [
    {
     "data": {
      "text/html": [
       "<ol>\n",
       "\t<li>'WHEAT.'</li>\n",
       "\t<li>'WHEAT, BARLEY.'</li>\n",
       "\t<li>'EGG, MUSTARD.'</li>\n",
       "\t<li><dl>\n",
       "</dl>\n",
       "</li>\n",
       "</ol>\n"
      ],
      "text/latex": [
       "\\begin{enumerate}\n",
       "\\item 'WHEAT.'\n",
       "\\item 'WHEAT, BARLEY.'\n",
       "\\item 'EGG, MUSTARD.'\n",
       "\\item \\begin{description}\n",
       "\\end{description}\n",
       "\n",
       "\\end{enumerate}\n"
      ],
      "text/markdown": [
       "1. 'WHEAT.'\n",
       "2. 'WHEAT, BARLEY.'\n",
       "3. 'EGG, MUSTARD.'\n",
       "4. \n",
       "\n",
       "\n",
       "\n",
       "\n"
      ],
      "text/plain": [
       "[[1]]\n",
       "[1] \"WHEAT.\"\n",
       "\n",
       "[[2]]\n",
       "[1] \"WHEAT, BARLEY.\"\n",
       "\n",
       "[[3]]\n",
       "[1] \"EGG, MUSTARD.\"\n",
       "\n",
       "[[4]]\n",
       "named list()\n"
      ]
     },
     "metadata": {},
     "output_type": "display_data"
    }
   ],
   "source": [
    "itemAllergens"
   ]
  },
  {
   "cell_type": "code",
   "execution_count": 100,
   "metadata": {
    "collapsed": true
   },
   "outputs": [],
   "source": [
    "itemName2 <- component$imported_product_name"
   ]
  },
  {
   "cell_type": "code",
   "execution_count": 102,
   "metadata": {
    "collapsed": false
   },
   "outputs": [
    {
     "data": {
      "text/html": [
       "<ol class=list-inline>\n",
       "\t<li>'Junior Chicken Patty'</li>\n",
       "\t<li>'Regular Bun'</li>\n",
       "\t<li>'Mayonnaise-Style Sauce'</li>\n",
       "\t<li>'Lettuce'</li>\n",
       "</ol>\n"
      ],
      "text/latex": [
       "\\begin{enumerate*}\n",
       "\\item 'Junior Chicken Patty'\n",
       "\\item 'Regular Bun'\n",
       "\\item 'Mayonnaise-Style Sauce'\n",
       "\\item 'Lettuce'\n",
       "\\end{enumerate*}\n"
      ],
      "text/markdown": [
       "1. 'Junior Chicken Patty'\n",
       "2. 'Regular Bun'\n",
       "3. 'Mayonnaise-Style Sauce'\n",
       "4. 'Lettuce'\n",
       "\n",
       "\n"
      ],
      "text/plain": [
       "[1] \"Junior Chicken Patty\"   \"Regular Bun\"            \"Mayonnaise-Style Sauce\"\n",
       "[4] \"Lettuce\"               "
      ]
     },
     "metadata": {},
     "output_type": "display_data"
    }
   ],
   "source": [
    "itemName2"
   ]
  },
  {
   "cell_type": "markdown",
   "metadata": {},
   "source": [
    "itemName2"
   ]
  },
  {
   "cell_type": "code",
   "execution_count": 103,
   "metadata": {
    "collapsed": false
   },
   "outputs": [
    {
     "data": {
      "text/html": [
       "<ol class=list-inline>\n",
       "\t<li>'Junior Chicken Patty'</li>\n",
       "\t<li>'Regular Bun'</li>\n",
       "\t<li>'Mayonnaise-Style Sauce'</li>\n",
       "\t<li>'Lettuce'</li>\n",
       "</ol>\n"
      ],
      "text/latex": [
       "\\begin{enumerate*}\n",
       "\\item 'Junior Chicken Patty'\n",
       "\\item 'Regular Bun'\n",
       "\\item 'Mayonnaise-Style Sauce'\n",
       "\\item 'Lettuce'\n",
       "\\end{enumerate*}\n"
      ],
      "text/markdown": [
       "1. 'Junior Chicken Patty'\n",
       "2. 'Regular Bun'\n",
       "3. 'Mayonnaise-Style Sauce'\n",
       "4. 'Lettuce'\n",
       "\n",
       "\n"
      ],
      "text/plain": [
       "[1] \"Junior Chicken Patty\"   \"Regular Bun\"            \"Mayonnaise-Style Sauce\"\n",
       "[4] \"Lettuce\"               "
      ]
     },
     "metadata": {},
     "output_type": "display_data"
    }
   ],
   "source": [
    "itemName2"
   ]
  },
  {
   "cell_type": "code",
   "execution_count": 111,
   "metadata": {
    "collapsed": false
   },
   "outputs": [
    {
     "data": {
      "text/html": [
       "'character'"
      ],
      "text/latex": [
       "'character'"
      ],
      "text/markdown": [
       "'character'"
      ],
      "text/plain": [
       "[1] \"character\""
      ]
     },
     "metadata": {},
     "output_type": "display_data"
    }
   ],
   "source": [
    "class(itemName2)"
   ]
  },
  {
   "cell_type": "code",
   "execution_count": 115,
   "metadata": {
    "collapsed": true
   },
   "outputs": [],
   "source": [
    "# Convert from character type to array\n",
    "itemNameArray <- array(itemName2)"
   ]
  },
  {
   "cell_type": "code",
   "execution_count": 116,
   "metadata": {
    "collapsed": false
   },
   "outputs": [
    {
     "data": {
      "text/html": [
       "<ol class=list-inline>\n",
       "\t<li>'Junior Chicken Patty'</li>\n",
       "\t<li>'Regular Bun'</li>\n",
       "\t<li>'Mayonnaise-Style Sauce'</li>\n",
       "\t<li>'Lettuce'</li>\n",
       "</ol>\n"
      ],
      "text/latex": [
       "\\begin{enumerate*}\n",
       "\\item 'Junior Chicken Patty'\n",
       "\\item 'Regular Bun'\n",
       "\\item 'Mayonnaise-Style Sauce'\n",
       "\\item 'Lettuce'\n",
       "\\end{enumerate*}\n"
      ],
      "text/markdown": [
       "1. 'Junior Chicken Patty'\n",
       "2. 'Regular Bun'\n",
       "3. 'Mayonnaise-Style Sauce'\n",
       "4. 'Lettuce'\n",
       "\n",
       "\n"
      ],
      "text/plain": [
       "[1] \"Junior Chicken Patty\"   \"Regular Bun\"            \"Mayonnaise-Style Sauce\"\n",
       "[4] \"Lettuce\"               "
      ]
     },
     "metadata": {},
     "output_type": "display_data"
    }
   ],
   "source": [
    "itemNameArray"
   ]
  },
  {
   "cell_type": "code",
   "execution_count": 117,
   "metadata": {
    "collapsed": false
   },
   "outputs": [
    {
     "data": {
      "text/html": [
       "'array'"
      ],
      "text/latex": [
       "'array'"
      ],
      "text/markdown": [
       "'array'"
      ],
      "text/plain": [
       "[1] \"array\""
      ]
     },
     "metadata": {},
     "output_type": "display_data"
    }
   ],
   "source": [
    "class(itemNameArray)"
   ]
  },
  {
   "cell_type": "code",
   "execution_count": 118,
   "metadata": {
    "collapsed": false
   },
   "outputs": [
    {
     "data": {
      "text/html": [
       "4"
      ],
      "text/latex": [
       "4"
      ],
      "text/markdown": [
       "4"
      ],
      "text/plain": [
       "[1] 4"
      ]
     },
     "metadata": {},
     "output_type": "display_data"
    }
   ],
   "source": [
    "length(itemNameArray)"
   ]
  },
  {
   "cell_type": "code",
   "execution_count": 119,
   "metadata": {
    "collapsed": true
   },
   "outputs": [],
   "source": [
    "# Convert from list type to array\n",
    "itemAllergensArray <- array(itemAllergens)"
   ]
  },
  {
   "cell_type": "code",
   "execution_count": 120,
   "metadata": {
    "collapsed": false
   },
   "outputs": [
    {
     "data": {
      "text/html": [
       "<ol>\n",
       "\t<li>'WHEAT.'</li>\n",
       "\t<li>'WHEAT, BARLEY.'</li>\n",
       "\t<li>'EGG, MUSTARD.'</li>\n",
       "\t<li><dl>\n",
       "</dl>\n",
       "</li>\n",
       "</ol>\n"
      ],
      "text/latex": [
       "\\begin{enumerate}\n",
       "\\item 'WHEAT.'\n",
       "\\item 'WHEAT, BARLEY.'\n",
       "\\item 'EGG, MUSTARD.'\n",
       "\\item \\begin{description}\n",
       "\\end{description}\n",
       "\n",
       "\\end{enumerate}\n"
      ],
      "text/markdown": [
       "1. 'WHEAT.'\n",
       "2. 'WHEAT, BARLEY.'\n",
       "3. 'EGG, MUSTARD.'\n",
       "4. \n",
       "\n",
       "\n",
       "\n",
       "\n"
      ],
      "text/plain": [
       "[[1]]\n",
       "[1] \"WHEAT.\"\n",
       "\n",
       "[[2]]\n",
       "[1] \"WHEAT, BARLEY.\"\n",
       "\n",
       "[[3]]\n",
       "[1] \"EGG, MUSTARD.\"\n",
       "\n",
       "[[4]]\n",
       "named list()\n"
      ]
     },
     "metadata": {},
     "output_type": "display_data"
    }
   ],
   "source": [
    "itemAllergensArray"
   ]
  },
  {
   "cell_type": "code",
   "execution_count": 121,
   "metadata": {
    "collapsed": false
   },
   "outputs": [
    {
     "data": {
      "text/html": [
       "'array'"
      ],
      "text/latex": [
       "'array'"
      ],
      "text/markdown": [
       "'array'"
      ],
      "text/plain": [
       "[1] \"array\""
      ]
     },
     "metadata": {},
     "output_type": "display_data"
    }
   ],
   "source": [
    "class(itemAllergensArray)"
   ]
  },
  {
   "cell_type": "code",
   "execution_count": 122,
   "metadata": {
    "collapsed": true
   },
   "outputs": [],
   "source": [
    "componentNameQuantity <- data.frame(itemNameArray, itemAllergensArray)"
   ]
  },
  {
   "cell_type": "code",
   "execution_count": 123,
   "metadata": {
    "collapsed": false
   },
   "outputs": [
    {
     "data": {
      "text/html": [
       "<table>\n",
       "<thead><tr><th scope=col>itemNameArray</th><th scope=col>itemAllergensArray</th></tr></thead>\n",
       "<tbody>\n",
       "\t<tr><td>Junior Chicken Patty  </td><td>WHEAT.                </td></tr>\n",
       "\t<tr><td>Regular Bun           </td><td>WHEAT, BARLEY.        </td></tr>\n",
       "\t<tr><td>Mayonnaise-Style Sauce</td><td>EGG, MUSTARD.         </td></tr>\n",
       "\t<tr><td>Lettuce               </td><td>NULL                  </td></tr>\n",
       "</tbody>\n",
       "</table>\n"
      ],
      "text/latex": [
       "\\begin{tabular}{r|ll}\n",
       " itemNameArray & itemAllergensArray\\\\\n",
       "\\hline\n",
       "\t Junior Chicken Patty   & WHEAT.                \\\\\n",
       "\t Regular Bun            & WHEAT, BARLEY.        \\\\\n",
       "\t Mayonnaise-Style Sauce & EGG, MUSTARD.         \\\\\n",
       "\t Lettuce                & NULL                  \\\\\n",
       "\\end{tabular}\n"
      ],
      "text/markdown": [
       "\n",
       "itemNameArray | itemAllergensArray | \n",
       "|---|---|---|---|\n",
       "| Junior Chicken Patty   | WHEAT.                 | \n",
       "| Regular Bun            | WHEAT, BARLEY.         | \n",
       "| Mayonnaise-Style Sauce | EGG, MUSTARD.          | \n",
       "| Lettuce                | NULL                   | \n",
       "\n",
       "\n"
      ],
      "text/plain": [
       "  itemNameArray          itemAllergensArray\n",
       "1 Junior Chicken Patty   WHEAT.            \n",
       "2 Regular Bun            WHEAT, BARLEY.    \n",
       "3 Mayonnaise-Style Sauce EGG, MUSTARD.     \n",
       "4 Lettuce                NULL              "
      ]
     },
     "metadata": {},
     "output_type": "display_data"
    }
   ],
   "source": [
    "componentNameQuantity"
   ]
  },
  {
   "cell_type": "code",
   "execution_count": 130,
   "metadata": {
    "collapsed": false
   },
   "outputs": [],
   "source": [
    "# Add a column to the dataframe. True if ingredients contain allergen. \n",
    "containsWheat <- regexpr('WHEAT', itemAllergensArray)"
   ]
  },
  {
   "cell_type": "code",
   "execution_count": 131,
   "metadata": {
    "collapsed": false
   },
   "outputs": [
    {
     "data": {
      "text/html": [
       "<ol class=list-inline>\n",
       "\t<li>1</li>\n",
       "\t<li>1</li>\n",
       "\t<li>-1</li>\n",
       "\t<li>-1</li>\n",
       "</ol>\n"
      ],
      "text/latex": [
       "\\begin{enumerate*}\n",
       "\\item 1\n",
       "\\item 1\n",
       "\\item -1\n",
       "\\item -1\n",
       "\\end{enumerate*}\n"
      ],
      "text/markdown": [
       "1. 1\n",
       "2. 1\n",
       "3. -1\n",
       "4. -1\n",
       "\n",
       "\n"
      ],
      "text/plain": [
       "[1]  1  1 -1 -1\n",
       "attr(,\"match.length\")\n",
       "[1]  5  5 -1 -1\n",
       "attr(,\"useBytes\")\n",
       "[1] TRUE"
      ]
     },
     "metadata": {},
     "output_type": "display_data"
    }
   ],
   "source": [
    "containsWheat"
   ]
  },
  {
   "cell_type": "code",
   "execution_count": 153,
   "metadata": {
    "collapsed": false
   },
   "outputs": [
    {
     "name": "stdout",
     "output_type": "stream",
     "text": [
      "[1] \"true\"\n",
      "[1] \"Junior Chicken Patty\"\n",
      "[1] \"true\"\n",
      "[1] \"Junior Chicken Patty\"\n",
      "[1] \"false\"\n",
      "[1] \"false\"\n"
     ]
    }
   ],
   "source": [
    "for(i in containsWheat){\n",
    "  if (toString(containsWheat[i]) == \"1\")\n",
    "      {print(\"true\")\n",
    "      print(componentNameQuantity$itemNameArray[i])}\n",
    "    else\n",
    "        {\n",
    "        print(\"false\")\n",
    "    }\n",
    "}"
   ]
  },
  {
   "cell_type": "code",
   "execution_count": null,
   "metadata": {
    "collapsed": true
   },
   "outputs": [],
   "source": []
  },
  {
   "cell_type": "code",
   "execution_count": null,
   "metadata": {
    "collapsed": true
   },
   "outputs": [],
   "source": []
  }
 ],
 "metadata": {
  "kernelspec": {
   "display_name": "R",
   "language": "R",
   "name": "ir"
  },
  "language_info": {
   "codemirror_mode": "r",
   "file_extension": ".r",
   "mimetype": "text/x-r-source",
   "name": "R",
   "pygments_lexer": "r",
   "version": "3.4.3"
  },
  "widgets": {
   "state": {},
   "version": "1.1.2"
  }
 },
 "nbformat": 4,
 "nbformat_minor": 0
}
